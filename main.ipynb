{
 "cells": [
  {
   "cell_type": "code",
   "execution_count": 16,
   "id": "6fab0a97-3a66-4977-932b-dfab7ea05ad8",
   "metadata": {},
   "outputs": [],
   "source": [
    "import os\n",
    "import cv2\n",
    "import numpy as np\n",
    "import matplotlib.pyplot as plt\n",
    "\n",
    "from glob import glob\n",
    "from crop_weapon import crop_weapon\n",
    "from jpgize import jpgize\n",
    "from apply_skin import apply_skin\n",
    "from resize import resize, create_filler\n",
    "from properties import show_px, properties"
   ]
  },
  {
   "cell_type": "markdown",
   "id": "e65063f5-2ac3-4151-a36b-0a45d5576016",
   "metadata": {},
   "source": [
    "all of the images need to have a constant size"
   ]
  },
  {
   "cell_type": "markdown",
   "id": "ccf5245f-a793-49ee-b542-5a06bb9aeb4d",
   "metadata": {},
   "source": [
    "pendants and attachments - I need a specific place to place them per each of the guns\n",
    "\n",
    "skins are going to be appliable over the actual gun"
   ]
  },
  {
   "cell_type": "markdown",
   "id": "84dcf05a-1fa4-4164-b7cf-02f1e7613f97",
   "metadata": {},
   "source": [
    "pendants:\n",
    "    pinata\n",
    "    dice\n",
    "    4_leaf\n",
    "    gold_medal\n",
    "    disco\n",
    "    \n",
    "attachments:\n",
    "    thermal_scope\n",
    "    acog\n",
    "    flamethrower\n",
    "    grenade_launcher\n",
    "    green_laser\n",
    "    red_laser\n",
    "    holo_scope\n",
    "    suppressor\n",
    "    red_dot\n",
    "    \n",
    "skins: \n",
    "    1\n",
    "    2\n",
    "    3\n",
    "    4\n",
    "    5\n",
    "    6\n",
    "    7\n",
    "    8\n",
    "    9 "
   ]
  },
  {
   "cell_type": "markdown",
   "id": "c9fa099f-1975-4c98-953f-40542ed58c6a",
   "metadata": {},
   "source": [
    "total: 5 pendants * 9 attachments * 9 skins = 405 unique combinations"
   ]
  },
  {
   "cell_type": "markdown",
   "id": "ee3cd398-8ce6-4939-955c-fdae4027bced",
   "metadata": {},
   "source": [
    "all the gun have to be extracted from the png and then the attachements, skins etc added and the whole thing has to be put in the center of the png"
   ]
  },
  {
   "cell_type": "markdown",
   "id": "70cd56b3-0a7a-4c1d-8eb0-444c347a8849",
   "metadata": {},
   "source": [
    "for some attachements there are going to be additional things to put in the up-left corner"
   ]
  },
  {
   "cell_type": "markdown",
   "id": "9c5bf176-c334-43b8-a1aa-c194cdb4e1b4",
   "metadata": {},
   "source": [
    "and the name of the gun is in the bottom-left corner"
   ]
  },
  {
   "cell_type": "code",
   "execution_count": 2,
   "id": "cb83ceac-f434-47aa-917f-7acc82eb614b",
   "metadata": {},
   "outputs": [],
   "source": [
    "pinata_spaz = cv2.imread('./data/Spaz12/PInata KC.png', cv2.IMREAD_UNCHANGED)"
   ]
  },
  {
   "cell_type": "code",
   "execution_count": 3,
   "id": "709c4353-641d-4658-bc44-acbf30fdda2e",
   "metadata": {},
   "outputs": [],
   "source": [
    "pinata_deagle = cv2.imread('./data/Deagle/PInata KC.png', cv2.IMREAD_UNCHANGED)"
   ]
  },
  {
   "cell_type": "code",
   "execution_count": 4,
   "id": "59367c2b-c55d-4e6f-9684-aa7fd5a5f295",
   "metadata": {},
   "outputs": [],
   "source": [
    "np.testing.assert_equal(pinata_spaz, pinata_deagle)"
   ]
  },
  {
   "cell_type": "code",
   "execution_count": 5,
   "id": "aa23bc4c-7241-431f-bc23-b3b1ea3a2342",
   "metadata": {},
   "outputs": [],
   "source": [
    "for i in os.listdir('skins'):\n",
    "    assert len(os.listdir('skins/' + i)) == 9"
   ]
  },
  {
   "cell_type": "markdown",
   "id": "04ac2a64-26f3-4a45-b9e9-f28aa705d4f9",
   "metadata": {},
   "source": [
    "---"
   ]
  },
  {
   "cell_type": "code",
   "execution_count": 6,
   "id": "853f107e-41b5-493d-8cba-ca44c732d439",
   "metadata": {},
   "outputs": [],
   "source": [
    "ak47 = cv2.imread('./weapons/Ak47.png', cv2.IMREAD_UNCHANGED)"
   ]
  },
  {
   "cell_type": "code",
   "execution_count": 7,
   "id": "01a0b024-ff90-4843-8112-da6980018b08",
   "metadata": {},
   "outputs": [],
   "source": [
    "skin = cv2.imread('./skins/Ak47/Skin 1.png', cv2.IMREAD_UNCHANGED)"
   ]
  },
  {
   "cell_type": "code",
   "execution_count": 8,
   "id": "e5ebcfae-93fa-4c3f-8cfe-98fc5027a1d8",
   "metadata": {},
   "outputs": [
    {
     "data": {
      "text/plain": [
       "<matplotlib.image.AxesImage at 0x12cb15d60>"
      ]
     },
     "execution_count": 8,
     "metadata": {},
     "output_type": "execute_result"
    },
    {
     "data": {
      "image/png": "[encoded data removed]",
      "text/plain": [
       "<Figure size 432x288 with 1 Axes>"
      ]
     },
     "metadata": {
      "needs_background": "light"
     },
     "output_type": "display_data"
    }
   ],
   "source": [
    "plt.imshow(skin)"
   ]
  },
  {
   "cell_type": "code",
   "execution_count": 9,
   "id": "2c14ac2d-ee8d-43d8-b67d-bbde27f9dc2d",
   "metadata": {},
   "outputs": [],
   "source": [
    "ak_skins = [cv2.imread(i, cv2.IMREAD_UNCHANGED) \n",
    "            for i in glob('skins/Ak47/*.png')]"
   ]
  },
  {
   "cell_type": "code",
   "execution_count": 10,
   "id": "0bf5e7e0-e654-45b0-aabf-6c268549ba30",
   "metadata": {},
   "outputs": [
    {
     "data": {
      "image/png": "[encoded data removed]",
      "text/plain": [
       "<Figure size 432x288 with 1 Axes>"
      ]
     },
     "metadata": {
      "needs_background": "light"
     },
     "output_type": "display_data"
    }
   ],
   "source": [
    "for skin in ak_skins[:1]:\n",
    "    ak47 = cv2.imread('./weapons/Ak47.png', cv2.IMREAD_UNCHANGED)\n",
    "    skin, ak47 = resize(skin, ak47, 'ak47')\n",
    "    out = apply_skin(ak47, skin)\n",
    "    out = cv2.cvtColor(out, cv2.COLOR_BGRA2RGBA)\n",
    "    plt.imshow(out)\n",
    "    plt.show()"
   ]
  },
  {
   "cell_type": "code",
   "execution_count": 11,
   "id": "871f4cac-03cf-48c8-acbe-928f18fd3aef",
   "metadata": {},
   "outputs": [],
   "source": [
    "weapon = cv2.imread('weapons/Deagle.png', cv2.IMREAD_UNCHANGED)"
   ]
  },
  {
   "cell_type": "code",
   "execution_count": 17,
   "id": "40f6599f-454b-4cac-98c8-d9e65ea12d3d",
   "metadata": {},
   "outputs": [
    {
     "data": {
      "image/png": "[encoded data removed]",
      "text/plain": [
       "<Figure size 1440x1440 with 1 Axes>"
      ]
     },
     "metadata": {
      "needs_background": "light"
     },
     "output_type": "display_data"
    }
   ],
   "source": [
    "show_px(weapon, [7, 0])"
   ]
  },
  {
   "cell_type": "code",
   "execution_count": 24,
   "id": "8b20f0f3-ca57-4cbf-a95a-105cbf8c6653",
   "metadata": {},
   "outputs": [],
   "source": [
    "def fit_attachment(weapon: np.ndarray,\n",
    "                   weapon_name: str, \n",
    "                   attachment_name: str):\n",
    "    \"\"\"\n",
    "    First add a plenty space for the attachments and then re-crop the weapon.\n",
    "    Translate the points by the amount of filler added.\n",
    "    \"\"\"\n",
    "    attachment = cv2.imread('./attachments/' + attachment_name + '.png', \n",
    "                            cv2.IMREAD_UNCHANGED)\n",
    "    _weapon = weapon.copy()\n",
    "    _attachment = attachment.copy()\n",
    "    _properties = properties[weapon_name].copy()\n",
    "    x, y = _properties[attachment_name]\n",
    "    print([x, y], weapon.shape, attachment.shape)\n",
    "    if y < 0: \n",
    "        # if y is over the weapon height\n",
    "        filler = create_filler(abs(y), ww)\n",
    "        _weapon = np.concatenate((filler, _weapon), axis=0)\n",
    "        for k, [_x, _y] in _properties.items():\n",
    "            _properties[k] = [_x, _y + abs(y)]\n",
    "            x, y = _properties[attachment_name]\n",
    "            wh, ww, _ = _weapon.shape\n",
    "            \n",
    "    if y + ah > wh:\n",
    "        # fill the upper\n",
    "        filler = create_filler(y + ah, ww)\n",
    "        _weapon = np.concatenate((filler, _weapon), axis=0)\n",
    "        for k, [_x, _y] in _properties.items():\n",
    "            _properties[k] = [_x, _y + y]\n",
    "            x, y = _properties[attachment_name]\n",
    "            wh, ww, _ = _weapon.shape\n",
    "    \n",
    "    if x > ww:\n",
    "        # if x is over the weapons width\n",
    "        filler = create_filler(wh, x - ww)\n",
    "        _weapon = np.concatenate((_weapon, filler), axis=0)\n",
    "        for k, [_x, _y] in _properties.items():\n",
    "            _properties[k] = [_x + x - ww, _y]\n",
    "            x, y = _properties[attachment_name]\n",
    "            wh, ww, _ = _weapon.shape\n",
    "    \n",
    "    if x + aw > ww:\n",
    "        # fill the right\n",
    "        filler = create_filler(wh, x + aw - ww)\n",
    "        _weapon = np.concatenate((_weapon, filler), axis=1)\n",
    "        for k, [_x, _y] in _properties.items():\n",
    "            _properties[k] = [_x + aw - ww, _y]\n",
    "            x, y = _properties[attachment_name]\n",
    "            wh, ww, _ = _weapon.shape\n",
    "    \n",
    "    plt.imshow(_weapon)\n",
    "    # if the attachment width is going over left \n",
    "    # if the attachment height is going over the bottom            \n",
    "\n",
    "        \n",
    "    # after adjusting the weapon size, \n",
    "    # use resize on the attachment\n",
    "    \n",
    "    # filler = create_filler()\n",
    "    # left\n",
    "    # right\n",
    "    # bottom"
   ]
  },
  {
   "cell_type": "code",
   "execution_count": 14,
   "id": "fd68d8be-ed87-49f8-91d1-8a3b11b82454",
   "metadata": {},
   "outputs": [],
   "source": [
    "deagle = cv2.imread('./weapons/Deagle.png', cv2.IMREAD_UNCHANGED)"
   ]
  },
  {
   "cell_type": "code",
   "execution_count": 33,
   "id": "81ae5179-52be-482d-8cb1-5c7f8a48a740",
   "metadata": {},
   "outputs": [],
   "source": [
    "att = cv2.imread('./attachments/flamethrower.png', cv2.IMREAD_UNCHANGED)"
   ]
  },
  {
   "cell_type": "code",
   "execution_count": 34,
   "id": "5809041f-48d4-40ce-9203-22fc86cd3c00",
   "metadata": {},
   "outputs": [
    {
     "data": {
      "text/plain": [
       "<matplotlib.image.AxesImage at 0x14e16e0d0>"
      ]
     },
     "execution_count": 34,
     "metadata": {},
     "output_type": "execute_result"
    },
    {
     "data": {
      "image/png": "[encoded data removed]",
      "text/plain": [
       "<Figure size 432x288 with 1 Axes>"
      ]
     },
     "metadata": {
      "needs_background": "light"
     },
     "output_type": "display_data"
    }
   ],
   "source": [
    "plt.imshow(att)"
   ]
  },
  {
   "cell_type": "code",
   "execution_count": 36,
   "id": "85ea9488-8202-46dc-92e4-0d8c51554da8",
   "metadata": {},
   "outputs": [
    {
     "name": "stdout",
     "output_type": "stream",
     "text": [
      "[20, 11] (17, 27, 4) (18, 47, 4)\n"
     ]
    },
    {
     "data": {
      "image/png": "[encoded data removed]",
      "text/plain": [
       "<Figure size 432x288 with 1 Axes>"
      ]
     },
     "metadata": {
      "needs_background": "light"
     },
     "output_type": "display_data"
    }
   ],
   "source": [
    "fit_attachment(deagle, 'deagle', 'flamethrower')"
   ]
  }
 ],
 "metadata": {
  "kernelspec": {
   "display_name": "Python 3 (ipykernel)",
   "language": "python",
   "name": "python3"
  },
  "language_info": {
   "codemirror_mode": {
    "name": "ipython",
    "version": 3
   },
   "file_extension": ".py",
   "mimetype": "text/x-python",
   "name": "python",
   "nbconvert_exporter": "python",
   "pygments_lexer": "ipython3",
   "version": "3.9.6"
  }
 },
 "nbformat": 4,
 "nbformat_minor": 5
}
