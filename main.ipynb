{
 "cells": [
  {
   "cell_type": "code",
   "execution_count": 1,
   "id": "ff87bac2-1a03-4774-80f0-a640a2fad92d",
   "metadata": {},
   "outputs": [],
   "source": [
    "import os\n",
    "import cv2\n",
    "import numpy as np\n",
    "import matplotlib.pyplot as plt\n",
    "\n",
    "from glob import glob\n",
    "from crop_weapon import crop_weapon\n",
    "from jpgize import jpgize\n",
    "from apply_skin import apply_skin\n",
    "from resize import resize"
   ]
  },
  {
   "cell_type": "markdown",
   "id": "e65063f5-2ac3-4151-a36b-0a45d5576016",
   "metadata": {},
   "source": [
    "all of the images need to have a constant size"
   ]
  },
  {
   "cell_type": "markdown",
   "id": "ccf5245f-a793-49ee-b542-5a06bb9aeb4d",
   "metadata": {},
   "source": [
    "pendants and attachments - I need a specific place to place them per each of the guns\n",
    "\n",
    "skins are going to be appliable over the actual gun"
   ]
  },
  {
   "cell_type": "markdown",
   "id": "84dcf05a-1fa4-4164-b7cf-02f1e7613f97",
   "metadata": {},
   "source": [
    "pendants:\n",
    "    pinata\n",
    "    dice\n",
    "    4_leaf\n",
    "    gold_medal\n",
    "    disco\n",
    "    \n",
    "attachments:\n",
    "    thermal_scope\n",
    "    acog\n",
    "    flamethrower\n",
    "    grenade_launcher\n",
    "    green_laser\n",
    "    red_laser\n",
    "    holo_scope\n",
    "    suppressor\n",
    "    red_dot\n",
    "    \n",
    "skins: \n",
    "    1\n",
    "    2\n",
    "    3\n",
    "    4\n",
    "    5\n",
    "    6\n",
    "    7\n",
    "    8\n",
    "    9 "
   ]
  },
  {
   "cell_type": "markdown",
   "id": "c9fa099f-1975-4c98-953f-40542ed58c6a",
   "metadata": {},
   "source": [
    "total: 5 pendants * 9 attachments * 9 skins = 405 unique combinations"
   ]
  },
  {
   "cell_type": "markdown",
   "id": "ee3cd398-8ce6-4939-955c-fdae4027bced",
   "metadata": {},
   "source": [
    "all the gun have to be extracted from the png and then the attachements, skins etc added and the whole thing has to be put in the center of the png"
   ]
  },
  {
   "cell_type": "markdown",
   "id": "70cd56b3-0a7a-4c1d-8eb0-444c347a8849",
   "metadata": {},
   "source": [
    "for some attachements there are going to be additional things to put in the up-left corner"
   ]
  },
  {
   "cell_type": "markdown",
   "id": "9c5bf176-c334-43b8-a1aa-c194cdb4e1b4",
   "metadata": {},
   "source": [
    "and the name of the gun is in the bottom-left corner"
   ]
  },
  {
   "cell_type": "code",
   "execution_count": 2,
   "id": "cb83ceac-f434-47aa-917f-7acc82eb614b",
   "metadata": {},
   "outputs": [],
   "source": [
    "pinata_spaz = cv2.imread('./data/Spaz12/PInata KC.png', cv2.IMREAD_UNCHANGED)"
   ]
  },
  {
   "cell_type": "code",
   "execution_count": 3,
   "id": "709c4353-641d-4658-bc44-acbf30fdda2e",
   "metadata": {},
   "outputs": [],
   "source": [
    "pinata_deagle = cv2.imread('./data/Deagle/PInata KC.png', cv2.IMREAD_UNCHANGED)"
   ]
  },
  {
   "cell_type": "code",
   "execution_count": 4,
   "id": "59367c2b-c55d-4e6f-9684-aa7fd5a5f295",
   "metadata": {},
   "outputs": [],
   "source": [
    "np.testing.assert_equal(pinata_spaz, pinata_deagle)"
   ]
  },
  {
   "cell_type": "code",
   "execution_count": 5,
   "id": "aa23bc4c-7241-431f-bc23-b3b1ea3a2342",
   "metadata": {},
   "outputs": [],
   "source": [
    "for i in os.listdir('skins'):\n",
    "    assert len(os.listdir('skins/' + i)) == 9"
   ]
  },
  {
   "cell_type": "markdown",
   "id": "04ac2a64-26f3-4a45-b9e9-f28aa705d4f9",
   "metadata": {},
   "source": [
    "---"
   ]
  },
  {
   "cell_type": "code",
   "execution_count": 6,
   "id": "853f107e-41b5-493d-8cba-ca44c732d439",
   "metadata": {},
   "outputs": [],
   "source": [
    "ak47 = cv2.imread('./weapons/Ak47.png', cv2.IMREAD_UNCHANGED)"
   ]
  },
  {
   "cell_type": "code",
   "execution_count": 7,
   "id": "38dfc6da-f0b4-4c31-97ac-c47f1e78ae0d",
   "metadata": {},
   "outputs": [
    {
     "data": {
      "text/plain": [
       "array([ 66,  66,  66, 255], dtype=uint8)"
      ]
     },
     "execution_count": 7,
     "metadata": {},
     "output_type": "execute_result"
    }
   ],
   "source": [
    "ak47[14, 23]"
   ]
  },
  {
   "cell_type": "code",
   "execution_count": 8,
   "id": "53def516-61ac-4f3b-a371-f4f4f967d72e",
   "metadata": {},
   "outputs": [
    {
     "data": {
      "text/plain": [
       "<matplotlib.image.AxesImage at 0x1499362b0>"
      ]
     },
     "execution_count": 8,
     "metadata": {},
     "output_type": "execute_result"
    },
    {
     "data": {
      "image/png": "[encoded data removed]",
      "text/plain": [
       "<Figure size 432x288 with 1 Axes>"
      ]
     },
     "metadata": {
      "needs_background": "light"
     },
     "output_type": "display_data"
    }
   ],
   "source": [
    "_ak = ak47.copy()\n",
    "_ak[15, 22] = [255, 0, 0, 255]\n",
    "plt.imshow(_ak)"
   ]
  },
  {
   "cell_type": "code",
   "execution_count": 9,
   "id": "01a0b024-ff90-4843-8112-da6980018b08",
   "metadata": {},
   "outputs": [],
   "source": [
    "skin = cv2.imread('./skins/Ak47/Skin 1.png', cv2.IMREAD_UNCHANGED)"
   ]
  },
  {
   "cell_type": "code",
   "execution_count": 10,
   "id": "e5ebcfae-93fa-4c3f-8cfe-98fc5027a1d8",
   "metadata": {},
   "outputs": [
    {
     "data": {
      "text/plain": [
       "<matplotlib.image.AxesImage at 0x149a2a3a0>"
      ]
     },
     "execution_count": 10,
     "metadata": {},
     "output_type": "execute_result"
    },
    {
     "data": {
      "image/png": "[encoded data removed]",
      "text/plain": [
       "<Figure size 432x288 with 1 Axes>"
      ]
     },
     "metadata": {
      "needs_background": "light"
     },
     "output_type": "display_data"
    }
   ],
   "source": [
    "plt.imshow(skin)"
   ]
  },
  {
   "cell_type": "code",
   "execution_count": 11,
   "id": "2c14ac2d-ee8d-43d8-b67d-bbde27f9dc2d",
   "metadata": {},
   "outputs": [],
   "source": [
    "ak_skins = [cv2.imread(i, cv2.IMREAD_UNCHANGED) \n",
    "            for i in glob('skins/Ak47/*.png')]"
   ]
  },
  {
   "cell_type": "code",
   "execution_count": 13,
   "id": "0bf5e7e0-e654-45b0-aabf-6c268549ba30",
   "metadata": {},
   "outputs": [
    {
     "data": {
      "image/png": "[encoded data removed]",
      "text/plain": [
       "<Figure size 432x288 with 1 Axes>"
      ]
     },
     "metadata": {
      "needs_background": "light"
     },
     "output_type": "display_data"
    },
    {
     "data": {
      "image/png": "[encoded data removed]",
      "text/plain": [
       "<Figure size 432x288 with 1 Axes>"
      ]
     },
     "metadata": {
      "needs_background": "light"
     },
     "output_type": "display_data"
    },
    {
     "data": {
      "image/png": "[encoded data removed]",
      "text/plain": [
       "<Figure size 432x288 with 1 Axes>"
      ]
     },
     "metadata": {
      "needs_background": "light"
     },
     "output_type": "display_data"
    },
    {
     "data": {
      "image/png": "[encoded data removed]",
      "text/plain": [
       "<Figure size 432x288 with 1 Axes>"
      ]
     },
     "metadata": {
      "needs_background": "light"
     },
     "output_type": "display_data"
    },
    {
     "data": {
      "image/png": "[encoded data removed]",
      "text/plain": [
       "<Figure size 432x288 with 1 Axes>"
      ]
     },
     "metadata": {
      "needs_background": "light"
     },
     "output_type": "display_data"
    },
    {
     "data": {
      "image/png": "[encoded data removed]",
      "text/plain": [
       "<Figure size 432x288 with 1 Axes>"
      ]
     },
     "metadata": {
      "needs_background": "light"
     },
     "output_type": "display_data"
    },
    {
     "data": {
      "image/png": "[encoded data removed]",
      "text/plain": [
       "<Figure size 432x288 with 1 Axes>"
      ]
     },
     "metadata": {
      "needs_background": "light"
     },
     "output_type": "display_data"
    },
    {
     "data": {
      "image/png": "[encoded data removed]",
      "text/plain": [
       "<Figure size 432x288 with 1 Axes>"
      ]
     },
     "metadata": {
      "needs_background": "light"
     },
     "output_type": "display_data"
    },
    {
     "data": {
      "image/png": "[encoded data removed]",
      "text/plain": [
       "<Figure size 432x288 with 1 Axes>"
      ]
     },
     "metadata": {
      "needs_background": "light"
     },
     "output_type": "display_data"
    }
   ],
   "source": [
    "for skin in ak_skins:\n",
    "    ak47 = cv2.imread('./weapons/Ak47.png', cv2.IMREAD_UNCHANGED)\n",
    "    skin, ak47 = resize(skin, ak47, 'ak47')\n",
    "    out = apply_skin(ak47, skin)\n",
    "    out = cv2.cvtColor(out, cv2.COLOR_BGRA2RGBA)\n",
    "    plt.imshow(out)\n",
    "    plt.show()"
   ]
  }
 ],
 "metadata": {
  "kernelspec": {
   "display_name": "Python 3 (ipykernel)",
   "language": "python",
   "name": "python3"
  },
  "language_info": {
   "codemirror_mode": {
    "name": "ipython",
    "version": 3
   },
   "file_extension": ".py",
   "mimetype": "text/x-python",
   "name": "python",
   "nbconvert_exporter": "python",
   "pygments_lexer": "ipython3",
   "version": "3.9.6"
  }
 },
 "nbformat": 4,
 "nbformat_minor": 5
}
