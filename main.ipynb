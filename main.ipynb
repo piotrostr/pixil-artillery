{
 "cells": [
  {
   "cell_type": "code",
   "execution_count": 1,
   "id": "c4235413-d8c7-4b38-a3d2-c7af3d387b8a",
   "metadata": {},
   "outputs": [],
   "source": [
    "import cv2\n",
    "import numpy as np\n",
    "import matplotlib.pyplot as plt"
   ]
  },
  {
   "cell_type": "markdown",
   "id": "e65063f5-2ac3-4151-a36b-0a45d5576016",
   "metadata": {},
   "source": [
    "all of the images need to have a constant size"
   ]
  },
  {
   "cell_type": "markdown",
   "id": "ccf5245f-a793-49ee-b542-5a06bb9aeb4d",
   "metadata": {},
   "source": [
    "pendants and attachments - I need a specific place to place them per each of the guns\n",
    "\n",
    "skins are going to be appliable over the actual gun"
   ]
  },
  {
   "cell_type": "markdown",
   "id": "84dcf05a-1fa4-4164-b7cf-02f1e7613f97",
   "metadata": {},
   "source": [
    "pendants:\n",
    "    pinata\n",
    "    dice\n",
    "    4_leaf\n",
    "    gold_medal\n",
    "    disco\n",
    "    \n",
    "attachments:\n",
    "    thermal_scope\n",
    "    acog\n",
    "    flamethrower\n",
    "    grenade_launcher\n",
    "    green_laser\n",
    "    red_laser\n",
    "    holo_scope\n",
    "    suppressor\n",
    "    red_dot\n",
    "    \n",
    "skins: \n",
    "    1\n",
    "    2\n",
    "    3\n",
    "    4\n",
    "    5\n",
    "    6\n",
    "    7\n",
    "    8\n",
    "    9 "
   ]
  },
  {
   "cell_type": "markdown",
   "id": "c9fa099f-1975-4c98-953f-40542ed58c6a",
   "metadata": {},
   "source": [
    "total: 5 pendants * 9 attachments * 9 skins = 405 unique combinations"
   ]
  },
  {
   "cell_type": "markdown",
   "id": "ee3cd398-8ce6-4939-955c-fdae4027bced",
   "metadata": {},
   "source": [
    "all the gun have to be extracted from the png and then the attachements, skins etc added and the whole thing has to be put in the center of the png"
   ]
  },
  {
   "cell_type": "markdown",
   "id": "70cd56b3-0a7a-4c1d-8eb0-444c347a8849",
   "metadata": {},
   "source": [
    "for some attachements there are going to be additional things to put in the up-left corner"
   ]
  },
  {
   "cell_type": "markdown",
   "id": "9c5bf176-c334-43b8-a1aa-c194cdb4e1b4",
   "metadata": {},
   "source": [
    "and the name of the gun is in the bottom-left corner"
   ]
  },
  {
   "cell_type": "code",
   "execution_count": 2,
   "id": "cb83ceac-f434-47aa-917f-7acc82eb614b",
   "metadata": {},
   "outputs": [],
   "source": [
    "pinata_spaz = cv2.imread('./data/Spaz12/PInata KC.png', cv2.IMREAD_UNCHANGED)"
   ]
  },
  {
   "cell_type": "code",
   "execution_count": 3,
   "id": "709c4353-641d-4658-bc44-acbf30fdda2e",
   "metadata": {},
   "outputs": [],
   "source": [
    "pinata_deagle = cv2.imread('./data/Deagle/PInata KC.png', cv2.IMREAD_UNCHANGED)"
   ]
  },
  {
   "cell_type": "code",
   "execution_count": 4,
   "id": "6b43078d-1510-4e8a-bfd7-049dea8b427a",
   "metadata": {},
   "outputs": [
    {
     "data": {
      "text/plain": [
       "<matplotlib.image.AxesImage at 0x1470becd0>"
      ]
     },
     "execution_count": 4,
     "metadata": {},
     "output_type": "execute_result"
    },
    {
     "data": {
      "image/png": "[encoded data removed]",
      "text/plain": [
       "<Figure size 432x288 with 1 Axes>"
      ]
     },
     "metadata": {
      "needs_background": "light"
     },
     "output_type": "display_data"
    }
   ],
   "source": [
    "plt.imshow(pinata_deagle)"
   ]
  },
  {
   "cell_type": "code",
   "execution_count": 5,
   "id": "59367c2b-c55d-4e6f-9684-aa7fd5a5f295",
   "metadata": {},
   "outputs": [],
   "source": [
    "np.testing.assert_equal(pinata_spaz, pinata_deagle)"
   ]
  },
  {
   "cell_type": "markdown",
   "id": "04ac2a64-26f3-4a45-b9e9-f28aa705d4f9",
   "metadata": {},
   "source": [
    "---"
   ]
  },
  {
   "cell_type": "code",
   "execution_count": 6,
   "id": "5b6257bd-641d-468c-bef2-3970e067f8bc",
   "metadata": {},
   "outputs": [],
   "source": [
    "mp5 = cv2.imread('./data/MP5/MP5.png', cv2.IMREAD_UNCHANGED)"
   ]
  },
  {
   "cell_type": "code",
   "execution_count": 7,
   "id": "2daddbe5-58f2-4bf4-bdf1-1411ea12fbbf",
   "metadata": {},
   "outputs": [],
   "source": [
    "pinata_mp5 = cv2.imread('./data/MP5/PInata KC.png', cv2.IMREAD_UNCHANGED)"
   ]
  },
  {
   "cell_type": "code",
   "execution_count": 8,
   "id": "cfd799cd-b233-4c71-a318-c9398c2d7ae9",
   "metadata": {},
   "outputs": [],
   "source": [
    "from crop_weapon import crop_weapon"
   ]
  },
  {
   "cell_type": "code",
   "execution_count": 9,
   "id": "48b7fe86-2c8d-4892-913d-8d7ac1e9abb6",
   "metadata": {},
   "outputs": [],
   "source": [
    "skin = cv2.imread('./data/MP5/Skin 9.png', cv2.IMREAD_UNCHANGED)"
   ]
  },
  {
   "cell_type": "code",
   "execution_count": 10,
   "id": "8a632af8-abbc-4fb3-ae80-b6ef09f7e821",
   "metadata": {},
   "outputs": [
    {
     "data": {
      "text/plain": [
       "<matplotlib.image.AxesImage at 0x147253220>"
      ]
     },
     "execution_count": 10,
     "metadata": {},
     "output_type": "execute_result"
    },
    {
     "data": {
      "image/png": "[encoded data removed]",
      "text/plain": [
       "<Figure size 432x288 with 1 Axes>"
      ]
     },
     "metadata": {
      "needs_background": "light"
     },
     "output_type": "display_data"
    }
   ],
   "source": [
    "plt.imshow(skin)"
   ]
  },
  {
   "cell_type": "code",
   "execution_count": 11,
   "id": "ee7f76aa-a088-43e8-b8af-96b437cda88f",
   "metadata": {},
   "outputs": [
    {
     "data": {
      "text/plain": [
       "(11, 19, 4)"
      ]
     },
     "execution_count": 11,
     "metadata": {},
     "output_type": "execute_result"
    }
   ],
   "source": [
    "skin.shape"
   ]
  },
  {
   "cell_type": "code",
   "execution_count": 12,
   "id": "e6840050-481a-4ebb-a1f5-90ca07a8277f",
   "metadata": {},
   "outputs": [
    {
     "data": {
      "text/plain": [
       "(16, 40, 4)"
      ]
     },
     "execution_count": 12,
     "metadata": {},
     "output_type": "execute_result"
    }
   ],
   "source": [
    "crop_weapon(mp5).shape"
   ]
  },
  {
   "cell_type": "code",
   "execution_count": 13,
   "id": "ee23583b-2bd3-4ddf-8aa2-76633dd9d4de",
   "metadata": {},
   "outputs": [
    {
     "data": {
      "text/plain": [
       "<matplotlib.image.AxesImage at 0x1472c3280>"
      ]
     },
     "execution_count": 13,
     "metadata": {},
     "output_type": "execute_result"
    },
    {
     "data": {
      "image/png": "[encoded data removed]",
      "text/plain": [
       "<Figure size 432x288 with 1 Axes>"
      ]
     },
     "metadata": {
      "needs_background": "light"
     },
     "output_type": "display_data"
    }
   ],
   "source": [
    "plt.imshow(pinata_mp5)"
   ]
  },
  {
   "cell_type": "code",
   "execution_count": 14,
   "id": "bb26399c-9b64-42ce-8fee-6d29fa4e95ce",
   "metadata": {},
   "outputs": [
    {
     "data": {
      "text/plain": [
       "<matplotlib.image.AxesImage at 0x14732d7c0>"
      ]
     },
     "execution_count": 14,
     "metadata": {},
     "output_type": "execute_result"
    },
    {
     "data": {
      "image/png": "[encoded data removed]",
      "text/plain": [
       "<Figure size 432x288 with 1 Axes>"
      ]
     },
     "metadata": {
      "needs_background": "light"
     },
     "output_type": "display_data"
    }
   ],
   "source": [
    "plt.imshow(crop_weapon(mp5))"
   ]
  },
  {
   "cell_type": "code",
   "execution_count": 15,
   "id": "9090a830-484e-4dab-9a4b-883c080636a6",
   "metadata": {},
   "outputs": [],
   "source": [
    "attachments_dict = {\n",
    "    # todo\n",
    "}"
   ]
  },
  {
   "cell_type": "code",
   "execution_count": 59,
   "id": "ed739f7d-cb6c-40f6-8c57-2e4a22809681",
   "metadata": {},
   "outputs": [
    {
     "data": {
      "text/plain": [
       "<matplotlib.image.AxesImage at 0x150e2a5e0>"
      ]
     },
     "execution_count": 59,
     "metadata": {},
     "output_type": "execute_result"
    },
    {
     "data": {
      "image/png": "[encoded data removed]",
      "text/plain": [
       "<Figure size 432x288 with 1 Axes>"
      ]
     },
     "metadata": {
      "needs_background": "light"
     },
     "output_type": "display_data"
    }
   ],
   "source": [
    "path = 'data/Knife/Knife.png'\n",
    "weapon = crop_weapon(cv2.imread(path, cv2.IMREAD_UNCHANGED))\n",
    "plt.imshow(weapon)"
   ]
  },
  {
   "cell_type": "code",
   "execution_count": 60,
   "id": "023fa353-4397-409b-9c74-e0149abfe0c6",
   "metadata": {},
   "outputs": [
    {
     "data": {
      "text/plain": [
       "True"
      ]
     },
     "execution_count": 60,
     "metadata": {},
     "output_type": "execute_result"
    }
   ],
   "source": [
    "save_name = 'Knife.png'\n",
    "cv2.imwrite('weapons/' + save_name, weapon)"
   ]
  },
  {
   "cell_type": "code",
   "execution_count": 61,
   "id": "169fe3f9-25ab-4cac-bbde-549b25f93ca0",
   "metadata": {},
   "outputs": [
    {
     "name": "stdout",
     "output_type": "stream",
     "text": [
      "Ak47.png          HuntingRifle.png  MP5.png           Revolver.png\n",
      "DB.png            Knife.png         RPG.png           Spaz12.png\n",
      "Deagle.png        L96.png           RayGun.png        p90.png\n"
     ]
    }
   ],
   "source": [
    "ls ./weapons/"
   ]
  },
  {
   "cell_type": "code",
   "execution_count": 65,
   "id": "eb60501e-40a6-4658-9afd-681b1f63b761",
   "metadata": {},
   "outputs": [
    {
     "data": {
      "text/plain": [
       "<matplotlib.image.AxesImage at 0x150b82e50>"
      ]
     },
     "execution_count": 65,
     "metadata": {},
     "output_type": "execute_result"
    },
    {
     "data": {
      "image/png": "[encoded data removed]",
      "text/plain": [
       "<Figure size 432x288 with 1 Axes>"
      ]
     },
     "metadata": {
      "needs_background": "light"
     },
     "output_type": "display_data"
    }
   ],
   "source": [
    "plt.imshow(cv2.imread('./weapons/Ak47.png', cv2.IMREAD_UNCHANGED))"
   ]
  },
  {
   "cell_type": "code",
   "execution_count": 68,
   "id": "f148e265-735c-4073-8203-10caab87830f",
   "metadata": {},
   "outputs": [
    {
     "data": {
      "text/plain": [
       "<matplotlib.image.AxesImage at 0x1510a71c0>"
      ]
     },
     "execution_count": 68,
     "metadata": {},
     "output_type": "execute_result"
    },
    {
     "data": {
      "image/png": "[encoded data removed]",
      "text/plain": [
       "<Figure size 432x288 with 1 Axes>"
      ]
     },
     "metadata": {
      "needs_background": "light"
     },
     "output_type": "display_data"
    }
   ],
   "source": [
    "plt.imshow(cv2.imread('./skins/Ak47_1.png', cv2.IMREAD_UNCHANGED))"
   ]
  },
  {
   "cell_type": "code",
   "execution_count": 72,
   "id": "a92fdc47-5939-4ee6-99cc-0d03bf603f64",
   "metadata": {},
   "outputs": [],
   "source": [
    "skin1 = cv2.imread('./data/AK47/Skin 1.png', cv2.IMREAD_UNCHANGED)"
   ]
  },
  {
   "cell_type": "code",
   "execution_count": 74,
   "id": "a67bbf40-ac0d-4b11-8d0c-361b4f6d8e53",
   "metadata": {},
   "outputs": [],
   "source": [
    "skin2 = cv2.imread('./data/AK47/Skin 8.png', cv2.IMREAD_UNCHANGED)"
   ]
  },
  {
   "cell_type": "code",
   "execution_count": 73,
   "id": "5cf0ad07-827b-47ec-bcf1-71edc655837e",
   "metadata": {},
   "outputs": [
    {
     "data": {
      "text/plain": [
       "<matplotlib.image.AxesImage at 0x151226c70>"
      ]
     },
     "execution_count": 73,
     "metadata": {},
     "output_type": "execute_result"
    },
    {
     "data": {
      "image/png": "[encoded data removed]",
      "text/plain": [
       "<Figure size 432x288 with 1 Axes>"
      ]
     },
     "metadata": {
      "needs_background": "light"
     },
     "output_type": "display_data"
    }
   ],
   "source": [
    "plt.imshow(skin1)"
   ]
  },
  {
   "cell_type": "code",
   "execution_count": 75,
   "id": "266516c6-db6f-44e2-a6c0-9e61f3d7d349",
   "metadata": {},
   "outputs": [
    {
     "data": {
      "text/plain": [
       "<matplotlib.image.AxesImage at 0x15125a130>"
      ]
     },
     "execution_count": 75,
     "metadata": {},
     "output_type": "execute_result"
    },
    {
     "data": {
      "image/png": "[encoded data removed]",
      "text/plain": [
       "<Figure size 432x288 with 1 Axes>"
      ]
     },
     "metadata": {
      "needs_background": "light"
     },
     "output_type": "display_data"
    }
   ],
   "source": [
    "plt.imshow(skin2)"
   ]
  },
  {
   "cell_type": "code",
   "execution_count": 76,
   "id": "ae785123-d46f-4616-8581-e5ac51435a16",
   "metadata": {},
   "outputs": [],
   "source": [
    "import os"
   ]
  },
  {
   "cell_type": "code",
   "execution_count": 80,
   "id": "c079bcee-7e01-4c6f-b91c-aae96ae79d1d",
   "metadata": {},
   "outputs": [],
   "source": [
    "for i in os.listdir('skins'):\n",
    "    assert len(os.listdir('skins/' + i)) == 9"
   ]
  },
  {
   "cell_type": "code",
   "execution_count": 81,
   "id": "9fc5579e-bf69-4166-b431-0fa159c7732f",
   "metadata": {},
   "outputs": [],
   "source": [
    "from glob import glob"
   ]
  },
  {
   "cell_type": "code",
   "execution_count": 82,
   "id": "7db20211-9f32-493b-aa40-2a0f7f7de899",
   "metadata": {},
   "outputs": [],
   "source": [
    "ak_skins = [cv2.imread(i, cv2.IMREAD_UNCHANGED) \n",
    "            for i in glob('skins/Ak47/*.png')]"
   ]
  },
  {
   "cell_type": "code",
   "execution_count": 84,
   "id": "71c2b6b1-27c7-44e8-826e-0a658ed368d4",
   "metadata": {},
   "outputs": [],
   "source": [
    "skin = ak_skins[0]"
   ]
  },
  {
   "cell_type": "code",
   "execution_count": 86,
   "id": "f148ec6e-b25f-4520-a758-bb29e13136d4",
   "metadata": {},
   "outputs": [
    {
     "data": {
      "text/plain": [
       "<matplotlib.image.AxesImage at 0x151253cd0>"
      ]
     },
     "execution_count": 86,
     "metadata": {},
     "output_type": "execute_result"
    },
    {
     "data": {
      "image/png": "[encoded data removed]",
      "text/plain": [
       "<Figure size 432x288 with 1 Axes>"
      ]
     },
     "metadata": {
      "needs_background": "light"
     },
     "output_type": "display_data"
    }
   ],
   "source": [
    "plt.imshow(skin)"
   ]
  },
  {
   "cell_type": "code",
   "execution_count": 88,
   "id": "5bc58d4c-7811-4371-b3f2-591673a42bf2",
   "metadata": {},
   "outputs": [
    {
     "data": {
      "text/plain": [
       "(23, 29, 4)"
      ]
     },
     "execution_count": 88,
     "metadata": {},
     "output_type": "execute_result"
    }
   ],
   "source": [
    "skin.shape"
   ]
  },
  {
   "cell_type": "code",
   "execution_count": 87,
   "id": "8e3fb157-abc8-432e-8080-46e6df3f372f",
   "metadata": {},
   "outputs": [
    {
     "data": {
      "text/plain": [
       "(29, 4)"
      ]
     },
     "execution_count": 87,
     "metadata": {},
     "output_type": "execute_result"
    }
   ],
   "source": [
    "skin[-1].shape"
   ]
  },
  {
   "cell_type": "code",
   "execution_count": 92,
   "id": "2bfa89b1-06db-401a-9b92-2eda3d149e4c",
   "metadata": {},
   "outputs": [
    {
     "data": {
      "text/plain": [
       "array([[255, 255, 255,   0],\n",
       "       [255, 255, 255,   0],\n",
       "       [255, 255, 255,   0],\n",
       "       [255, 255, 255,   0],\n",
       "       [255, 255, 255,   0],\n",
       "       [255, 255, 255,   0],\n",
       "       [255, 255, 255,   0],\n",
       "       [255, 255, 255,   0],\n",
       "       [226, 151, 110,   0],\n",
       "       [ 99, 200,  25, 255],\n",
       "       [ 99, 200,  25, 255],\n",
       "       [ 99, 200,  25, 255],\n",
       "       [226, 151, 110,   0],\n",
       "       [255, 255, 255,   0],\n",
       "       [255, 255, 255,   0],\n",
       "       [255, 255, 255,   0],\n",
       "       [255, 255, 255,   0],\n",
       "       [255, 255, 255,   0],\n",
       "       [255, 255, 255,   0],\n",
       "       [255, 255, 255,   0],\n",
       "       [255, 255, 255,   0],\n",
       "       [255, 255, 255,   0],\n",
       "       [255, 255, 255,   0],\n",
       "       [255, 255, 255,   0],\n",
       "       [255, 255, 255,   0],\n",
       "       [255, 255, 255,   0],\n",
       "       [255, 255, 255,   0],\n",
       "       [255, 255, 255,   0],\n",
       "       [255, 255, 255,   0]], dtype=uint8)"
      ]
     },
     "execution_count": 92,
     "metadata": {},
     "output_type": "execute_result"
    }
   ],
   "source": [
    "skin[-1]"
   ]
  },
  {
   "cell_type": "code",
   "execution_count": 90,
   "id": "459e695d-5a4f-4d49-8bdb-382c11d5ee79",
   "metadata": {},
   "outputs": [
    {
     "data": {
      "text/plain": [
       "(array([ 0,  0,  0,  1,  1,  1,  2,  2,  2,  3,  3,  3,  4,  4,  4,  5,  5,\n",
       "         5,  6,  6,  6,  7,  7,  7,  8,  8,  8,  9,  9,  9,  9, 10, 10, 10,\n",
       "        10, 11, 11, 11, 11, 12, 12, 12, 13, 13, 13, 14, 14, 14, 15, 15, 15,\n",
       "        16, 16, 16, 17, 17, 17, 18, 18, 18, 19, 19, 19, 20, 20, 20, 21, 21,\n",
       "        21, 22, 22, 22, 23, 23, 23, 24, 24, 24, 25, 25, 25, 26, 26, 26, 27,\n",
       "        27, 27, 28, 28, 28]),\n",
       " array([0, 1, 2, 0, 1, 2, 0, 1, 2, 0, 1, 2, 0, 1, 2, 0, 1, 2, 0, 1, 2, 0,\n",
       "        1, 2, 0, 1, 2, 0, 1, 2, 3, 0, 1, 2, 3, 0, 1, 2, 3, 0, 1, 2, 0, 1,\n",
       "        2, 0, 1, 2, 0, 1, 2, 0, 1, 2, 0, 1, 2, 0, 1, 2, 0, 1, 2, 0, 1, 2,\n",
       "        0, 1, 2, 0, 1, 2, 0, 1, 2, 0, 1, 2, 0, 1, 2, 0, 1, 2, 0, 1, 2, 0,\n",
       "        1, 2]))"
      ]
     },
     "execution_count": 90,
     "metadata": {},
     "output_type": "execute_result"
    }
   ],
   "source": [
    "np.where(skin[-1].m != 0)"
   ]
  },
  {
   "cell_type": "code",
   "execution_count": null,
   "id": "fbd79152-1459-49d8-b912-500a67271762",
   "metadata": {},
   "outputs": [],
   "source": [
    "def get_skin_bottom_px(skin):\n",
    "    skin"
   ]
  }
 ],
 "metadata": {
  "kernelspec": {
   "display_name": "Python 3 (ipykernel)",
   "language": "python",
   "name": "python3"
  },
  "language_info": {
   "codemirror_mode": {
    "name": "ipython",
    "version": 3
   },
   "file_extension": ".py",
   "mimetype": "text/x-python",
   "name": "python",
   "nbconvert_exporter": "python",
   "pygments_lexer": "ipython3",
   "version": "3.9.6"
  }
 },
 "nbformat": 4,
 "nbformat_minor": 5
}
