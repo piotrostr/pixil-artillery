{
 "cells": [
  {
   "cell_type": "code",
   "execution_count": 1,
   "id": "c4235413-d8c7-4b38-a3d2-c7af3d387b8a",
   "metadata": {},
   "outputs": [],
   "source": [
    "import cv2\n",
    "import numpy as np\n",
    "import matplotlib.pyplot as plt"
   ]
  },
  {
   "cell_type": "markdown",
   "id": "e65063f5-2ac3-4151-a36b-0a45d5576016",
   "metadata": {},
   "source": [
    "all of the images need to have a constant size"
   ]
  },
  {
   "cell_type": "markdown",
   "id": "ccf5245f-a793-49ee-b542-5a06bb9aeb4d",
   "metadata": {},
   "source": [
    "pendants and attachments - I need a specific place to place them per each of the guns\n",
    "\n",
    "skins are going to be appliable over the actual gun"
   ]
  },
  {
   "cell_type": "markdown",
   "id": "84dcf05a-1fa4-4164-b7cf-02f1e7613f97",
   "metadata": {},
   "source": [
    "pendants:\n",
    "    pinata\n",
    "    dice\n",
    "    4_leaf\n",
    "    gold_medal\n",
    "    disco\n",
    "    \n",
    "attachments:\n",
    "    thermal_scope\n",
    "    acog\n",
    "    flamethrower\n",
    "    grenade_launcher\n",
    "    green_laser\n",
    "    red_laser\n",
    "    holo_scope\n",
    "    suppressor\n",
    "    red_dot\n",
    "    \n",
    "skins: \n",
    "    1\n",
    "    2\n",
    "    3\n",
    "    4\n",
    "    5\n",
    "    6\n",
    "    7\n",
    "    8\n",
    "    9 "
   ]
  },
  {
   "cell_type": "markdown",
   "id": "c9fa099f-1975-4c98-953f-40542ed58c6a",
   "metadata": {},
   "source": [
    "total: 5 pendants * 9 attachments * 9 skins = 405 unique combinations"
   ]
  },
  {
   "cell_type": "markdown",
   "id": "ee3cd398-8ce6-4939-955c-fdae4027bced",
   "metadata": {},
   "source": [
    "all the gun have to be extracted from the png and then the attachements, skins etc added and the whole thing has to be put in the center of the png"
   ]
  },
  {
   "cell_type": "markdown",
   "id": "70cd56b3-0a7a-4c1d-8eb0-444c347a8849",
   "metadata": {},
   "source": [
    "for some attachements there are going to be additional things to put in the up-left corner"
   ]
  },
  {
   "cell_type": "markdown",
   "id": "9c5bf176-c334-43b8-a1aa-c194cdb4e1b4",
   "metadata": {},
   "source": [
    "and the name of the gun is in the bottom-left corner"
   ]
  },
  {
   "cell_type": "code",
   "execution_count": 2,
   "id": "cb83ceac-f434-47aa-917f-7acc82eb614b",
   "metadata": {},
   "outputs": [],
   "source": [
    "pinata_spaz = cv2.imread('./data/Spaz12/PInata KC.png', cv2.IMREAD_UNCHANGED)"
   ]
  },
  {
   "cell_type": "code",
   "execution_count": 3,
   "id": "709c4353-641d-4658-bc44-acbf30fdda2e",
   "metadata": {},
   "outputs": [],
   "source": [
    "pinata_deagle = cv2.imread('./data/Deagle/PInata KC.png', cv2.IMREAD_UNCHANGED)"
   ]
  },
  {
   "cell_type": "code",
   "execution_count": 4,
   "id": "6b43078d-1510-4e8a-bfd7-049dea8b427a",
   "metadata": {},
   "outputs": [
    {
     "data": {
      "text/plain": [
       "<matplotlib.image.AxesImage at 0x11f3d19d0>"
      ]
     },
     "execution_count": 4,
     "metadata": {},
     "output_type": "execute_result"
    },
    {
     "data": {
      "image/png": "[encoded data removed]",
      "text/plain": [
       "<Figure size 432x288 with 1 Axes>"
      ]
     },
     "metadata": {
      "needs_background": "light"
     },
     "output_type": "display_data"
    }
   ],
   "source": [
    "plt.imshow(pinata_deagle)"
   ]
  },
  {
   "cell_type": "code",
   "execution_count": 5,
   "id": "59367c2b-c55d-4e6f-9684-aa7fd5a5f295",
   "metadata": {},
   "outputs": [],
   "source": [
    "np.testing.assert_equal(pinata_spaz, pinata_deagle)"
   ]
  },
  {
   "cell_type": "markdown",
   "id": "04ac2a64-26f3-4a45-b9e9-f28aa705d4f9",
   "metadata": {},
   "source": [
    "---"
   ]
  },
  {
   "cell_type": "code",
   "execution_count": 6,
   "id": "5b6257bd-641d-468c-bef2-3970e067f8bc",
   "metadata": {},
   "outputs": [],
   "source": [
    "mp5 = cv2.imread('./data/MP5/MP5.png', cv2.IMREAD_UNCHANGED)"
   ]
  },
  {
   "cell_type": "code",
   "execution_count": 7,
   "id": "6cfde5c1-9821-44d3-b856-885a0f1dca14",
   "metadata": {},
   "outputs": [
    {
     "data": {
      "text/plain": [
       "<matplotlib.image.AxesImage at 0x11f559910>"
      ]
     },
     "execution_count": 7,
     "metadata": {},
     "output_type": "execute_result"
    },
    {
     "data": {
      "image/png": "[encoded data removed]",
      "text/plain": [
       "<Figure size 432x288 with 1 Axes>"
      ]
     },
     "metadata": {
      "needs_background": "light"
     },
     "output_type": "display_data"
    }
   ],
   "source": [
    "plt.imshow(mp5)"
   ]
  },
  {
   "cell_type": "code",
   "execution_count": 8,
   "id": "5538394b-5edd-4911-b95c-8d0e86ca08a2",
   "metadata": {},
   "outputs": [
    {
     "data": {
      "text/plain": [
       "<matplotlib.image.AxesImage at 0x11f5cfc10>"
      ]
     },
     "execution_count": 8,
     "metadata": {},
     "output_type": "execute_result"
    },
    {
     "data": {
      "image/png": "[encoded data removed]",
      "text/plain": [
       "<Figure size 432x288 with 1 Axes>"
      ]
     },
     "metadata": {
      "needs_background": "light"
     },
     "output_type": "display_data"
    }
   ],
   "source": [
    "_img = mp5\n",
    "\n",
    "mask = _img[:, :, 3] == 0\n",
    "_img[mask] = [255, 255, 255, 255]\n",
    "_img = cv2.cvtColor(_img, cv2.COLOR_BGRA2BGR)\n",
    "\n",
    "h, w, c = _img.shape\n",
    "to_idx = int(h*0.8)\n",
    "from_idx = int(h*0.25)\n",
    "_img = _img[from_idx: to_idx]\n",
    "\n",
    "plt.imshow(_img)"
   ]
  },
  {
   "cell_type": "code",
   "execution_count": 9,
   "id": "8a65abc2-bdd3-4313-92ba-4feec4d1da06",
   "metadata": {},
   "outputs": [],
   "source": [
    "h, w, c = _img.shape\n",
    "upper_idx = 0\n",
    "for row in range(h):\n",
    "    if _img[row].mean() != 255.:\n",
    "        upper_idx = row\n",
    "        break\n",
    "left_idx = 0\n",
    "for col in range(w):\n",
    "    if _img.transpose(1, 0, 2)[col].mean() != 255.:\n",
    "        left_idx = col\n",
    "        break\n",
    "lower_idx = h\n",
    "for row in range(h)[::-1]:\n",
    "     if _img[row - 1].mean() != 255.:\n",
    "        lower_idx = row\n",
    "        break\n",
    "_img = _img[upper_idx: lower_idx, left_idx:]"
   ]
  },
  {
   "cell_type": "code",
   "execution_count": 10,
   "id": "5d45742f-738d-403e-823d-1d9717351fd9",
   "metadata": {},
   "outputs": [
    {
     "data": {
      "text/plain": [
       "<matplotlib.image.AxesImage at 0x11f648400>"
      ]
     },
     "execution_count": 10,
     "metadata": {},
     "output_type": "execute_result"
    },
    {
     "data": {
      "image/png": "[encoded data removed]",
      "text/plain": [
       "<Figure size 432x288 with 1 Axes>"
      ]
     },
     "metadata": {
      "needs_background": "light"
     },
     "output_type": "display_data"
    }
   ],
   "source": [
    "plt.imshow(_img)"
   ]
  },
  {
   "cell_type": "code",
   "execution_count": 11,
   "id": "dfa8b62b-5be8-4a9f-a689-a12d6d475dd6",
   "metadata": {},
   "outputs": [
    {
     "data": {
      "text/plain": [
       "51"
      ]
     },
     "execution_count": 11,
     "metadata": {},
     "output_type": "execute_result"
    }
   ],
   "source": [
    "from_idx + lower_idx"
   ]
  },
  {
   "cell_type": "code",
   "execution_count": 12,
   "id": "986f062d-445c-4505-9ab0-f344e49305d4",
   "metadata": {},
   "outputs": [
    {
     "data": {
      "text/plain": [
       "35"
      ]
     },
     "execution_count": 12,
     "metadata": {},
     "output_type": "execute_result"
    }
   ],
   "source": [
    "from_idx + upper_idx"
   ]
  },
  {
   "cell_type": "code",
   "execution_count": 14,
   "id": "99b0d3c9-12f6-4d7a-837c-d92473f2a5e3",
   "metadata": {},
   "outputs": [
    {
     "data": {
      "text/plain": [
       "<matplotlib.image.AxesImage at 0x11f720400>"
      ]
     },
     "execution_count": 14,
     "metadata": {},
     "output_type": "execute_result"
    },
    {
     "data": {
      "image/png": "[encoded data removed]",
      "text/plain": [
       "<Figure size 432x288 with 1 Axes>"
      ]
     },
     "metadata": {
      "needs_background": "light"
     },
     "output_type": "display_data"
    }
   ],
   "source": [
    "plt.imshow(mp5[from_idx + upper_idx: from_idx + lower_idx, left_idx:])"
   ]
  },
  {
   "cell_type": "code",
   "execution_count": 15,
   "id": "cfd799cd-b233-4c71-a318-c9398c2d7ae9",
   "metadata": {},
   "outputs": [],
   "source": [
    "from crop_weapon import crop_weapon"
   ]
  },
  {
   "cell_type": "code",
   "execution_count": 17,
   "id": "bb26399c-9b64-42ce-8fee-6d29fa4e95ce",
   "metadata": {},
   "outputs": [
    {
     "data": {
      "text/plain": [
       "<matplotlib.image.AxesImage at 0x12a595220>"
      ]
     },
     "execution_count": 17,
     "metadata": {},
     "output_type": "execute_result"
    },
    {
     "data": {
      "image/png": "[encoded data removed]",
      "text/plain": [
       "<Figure size 432x288 with 1 Axes>"
      ]
     },
     "metadata": {
      "needs_background": "light"
     },
     "output_type": "display_data"
    }
   ],
   "source": [
    "plt.imshow(crop_weapon(mp5))"
   ]
  }
 ],
 "metadata": {
  "kernelspec": {
   "display_name": "Python 3 (ipykernel)",
   "language": "python",
   "name": "python3"
  },
  "language_info": {
   "codemirror_mode": {
    "name": "ipython",
    "version": 3
   },
   "file_extension": ".py",
   "mimetype": "text/x-python",
   "name": "python",
   "nbconvert_exporter": "python",
   "pygments_lexer": "ipython3",
   "version": "3.9.6"
  }
 },
 "nbformat": 4,
 "nbformat_minor": 5
}
