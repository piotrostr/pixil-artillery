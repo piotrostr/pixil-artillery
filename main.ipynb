{
 "cells": [
  {
   "cell_type": "code",
   "execution_count": 1,
   "id": "36d9624a-eb1c-4b71-b085-1a5859b19608",
   "metadata": {},
   "outputs": [],
   "source": [
    "import cv2\n",
    "import numpy as np\n",
    "import matplotlib.pyplot as plt\n",
    "\n",
    "from crop_weapon import crop_weapon, jpgize"
   ]
  },
  {
   "cell_type": "markdown",
   "id": "e65063f5-2ac3-4151-a36b-0a45d5576016",
   "metadata": {},
   "source": [
    "all of the images need to have a constant size"
   ]
  },
  {
   "cell_type": "markdown",
   "id": "ccf5245f-a793-49ee-b542-5a06bb9aeb4d",
   "metadata": {},
   "source": [
    "pendants and attachments - I need a specific place to place them per each of the guns\n",
    "\n",
    "skins are going to be appliable over the actual gun"
   ]
  },
  {
   "cell_type": "markdown",
   "id": "84dcf05a-1fa4-4164-b7cf-02f1e7613f97",
   "metadata": {},
   "source": [
    "pendants:\n",
    "    pinata\n",
    "    dice\n",
    "    4_leaf\n",
    "    gold_medal\n",
    "    disco\n",
    "    \n",
    "attachments:\n",
    "    thermal_scope\n",
    "    acog\n",
    "    flamethrower\n",
    "    grenade_launcher\n",
    "    green_laser\n",
    "    red_laser\n",
    "    holo_scope\n",
    "    suppressor\n",
    "    red_dot\n",
    "    \n",
    "skins: \n",
    "    1\n",
    "    2\n",
    "    3\n",
    "    4\n",
    "    5\n",
    "    6\n",
    "    7\n",
    "    8\n",
    "    9 "
   ]
  },
  {
   "cell_type": "markdown",
   "id": "c9fa099f-1975-4c98-953f-40542ed58c6a",
   "metadata": {},
   "source": [
    "total: 5 pendants * 9 attachments * 9 skins = 405 unique combinations"
   ]
  },
  {
   "cell_type": "markdown",
   "id": "ee3cd398-8ce6-4939-955c-fdae4027bced",
   "metadata": {},
   "source": [
    "all the gun have to be extracted from the png and then the attachements, skins etc added and the whole thing has to be put in the center of the png"
   ]
  },
  {
   "cell_type": "markdown",
   "id": "70cd56b3-0a7a-4c1d-8eb0-444c347a8849",
   "metadata": {},
   "source": [
    "for some attachements there are going to be additional things to put in the up-left corner"
   ]
  },
  {
   "cell_type": "markdown",
   "id": "9c5bf176-c334-43b8-a1aa-c194cdb4e1b4",
   "metadata": {},
   "source": [
    "and the name of the gun is in the bottom-left corner"
   ]
  },
  {
   "cell_type": "code",
   "execution_count": 2,
   "id": "cb83ceac-f434-47aa-917f-7acc82eb614b",
   "metadata": {},
   "outputs": [],
   "source": [
    "pinata_spaz = cv2.imread('./data/Spaz12/PInata KC.png', cv2.IMREAD_UNCHANGED)"
   ]
  },
  {
   "cell_type": "code",
   "execution_count": 3,
   "id": "709c4353-641d-4658-bc44-acbf30fdda2e",
   "metadata": {},
   "outputs": [],
   "source": [
    "pinata_deagle = cv2.imread('./data/Deagle/PInata KC.png', cv2.IMREAD_UNCHANGED)"
   ]
  },
  {
   "cell_type": "code",
   "execution_count": 4,
   "id": "6b43078d-1510-4e8a-bfd7-049dea8b427a",
   "metadata": {},
   "outputs": [
    {
     "data": {
      "text/plain": [
       "<matplotlib.image.AxesImage at 0x13745fbb0>"
      ]
     },
     "execution_count": 4,
     "metadata": {},
     "output_type": "execute_result"
    },
    {
     "data": {
      "image/png": "[encoded data removed]",
      "text/plain": [
       "<Figure size 432x288 with 1 Axes>"
      ]
     },
     "metadata": {
      "needs_background": "light"
     },
     "output_type": "display_data"
    }
   ],
   "source": [
    "plt.imshow(pinata_deagle)"
   ]
  },
  {
   "cell_type": "code",
   "execution_count": 5,
   "id": "59367c2b-c55d-4e6f-9684-aa7fd5a5f295",
   "metadata": {},
   "outputs": [],
   "source": [
    "np.testing.assert_equal(pinata_spaz, pinata_deagle)"
   ]
  },
  {
   "cell_type": "markdown",
   "id": "04ac2a64-26f3-4a45-b9e9-f28aa705d4f9",
   "metadata": {},
   "source": [
    "---"
   ]
  },
  {
   "cell_type": "code",
   "execution_count": 10,
   "id": "ae785123-d46f-4616-8581-e5ac51435a16",
   "metadata": {},
   "outputs": [],
   "source": [
    "import os"
   ]
  },
  {
   "cell_type": "code",
   "execution_count": 11,
   "id": "c079bcee-7e01-4c6f-b91c-aae96ae79d1d",
   "metadata": {},
   "outputs": [],
   "source": [
    "for i in os.listdir('skins'):\n",
    "    assert len(os.listdir('skins/' + i)) == 9"
   ]
  },
  {
   "cell_type": "code",
   "execution_count": 12,
   "id": "9fc5579e-bf69-4166-b431-0fa159c7732f",
   "metadata": {},
   "outputs": [],
   "source": [
    "from glob import glob"
   ]
  },
  {
   "cell_type": "code",
   "execution_count": 13,
   "id": "7db20211-9f32-493b-aa40-2a0f7f7de899",
   "metadata": {},
   "outputs": [],
   "source": [
    "ak_skins = [cv2.imread(i, cv2.IMREAD_UNCHANGED) \n",
    "            for i in glob('skins/Ak47/*.png')]"
   ]
  },
  {
   "cell_type": "code",
   "execution_count": 14,
   "id": "71c2b6b1-27c7-44e8-826e-0a658ed368d4",
   "metadata": {},
   "outputs": [],
   "source": [
    "skin = ak_skins[0]"
   ]
  },
  {
   "cell_type": "code",
   "execution_count": 15,
   "id": "f148ec6e-b25f-4520-a758-bb29e13136d4",
   "metadata": {},
   "outputs": [
    {
     "data": {
      "text/plain": [
       "<matplotlib.image.AxesImage at 0x140bf10d0>"
      ]
     },
     "execution_count": 15,
     "metadata": {},
     "output_type": "execute_result"
    },
    {
     "data": {
      "image/png": "[encoded data removed]",
      "text/plain": [
       "<Figure size 432x288 with 1 Axes>"
      ]
     },
     "metadata": {
      "needs_background": "light"
     },
     "output_type": "display_data"
    }
   ],
   "source": [
    "plt.imshow(skin)"
   ]
  },
  {
   "cell_type": "code",
   "execution_count": 16,
   "id": "5bc58d4c-7811-4371-b3f2-591673a42bf2",
   "metadata": {},
   "outputs": [
    {
     "data": {
      "text/plain": [
       "(23, 29, 4)"
      ]
     },
     "execution_count": 16,
     "metadata": {},
     "output_type": "execute_result"
    }
   ],
   "source": [
    "skin.shape"
   ]
  },
  {
   "cell_type": "code",
   "execution_count": 17,
   "id": "8e3fb157-abc8-432e-8080-46e6df3f372f",
   "metadata": {},
   "outputs": [
    {
     "data": {
      "text/plain": [
       "(29, 4)"
      ]
     },
     "execution_count": 17,
     "metadata": {},
     "output_type": "execute_result"
    }
   ],
   "source": [
    "skin[-1].shape"
   ]
  },
  {
   "cell_type": "code",
   "execution_count": 77,
   "id": "fbd79152-1459-49d8-b912-500a67271762",
   "metadata": {},
   "outputs": [],
   "source": [
    "def get_bottom_px(skin):\n",
    "    _skin = jpgize(skin)\n",
    "    white_px = [255, 255, 255]\n",
    "    start_idx = None\n",
    "    for idx in range(len(_skin[-1])):\n",
    "        if not all(i == j for i, j in zip(_skin[-1][idx], white_px)):\n",
    "            return (idx, _skin.shape[0])"
   ]
  },
  {
   "cell_type": "code",
   "execution_count": 74,
   "id": "c2736e04-e586-4902-9be9-d3fd441f2975",
   "metadata": {},
   "outputs": [],
   "source": [
    "for skin in ak_skins:\n",
    "    assert get_skin_bottom_px(skin)[0] == 9"
   ]
  },
  {
   "cell_type": "code",
   "execution_count": 55,
   "id": "27fec63e-54bf-4a51-bbc8-9052df704cee",
   "metadata": {},
   "outputs": [],
   "source": [
    "def overlay(skin, image):\n",
    "    \"\"\"\n",
    "    overlays :param ndarray skin: onto :param ndarray image:\n",
    "    :returns ndarray:\n",
    "    \"\"\"\n",
    "    start_idx = get_skin_bottom_px(skin)"
   ]
  },
  {
   "cell_type": "code",
   "execution_count": 47,
   "id": "853f107e-41b5-493d-8cba-ca44c732d439",
   "metadata": {},
   "outputs": [],
   "source": [
    "ak47 = cv2.imread('./weapons/Ak47.png', cv2.IMREAD_UNCHANGED)"
   ]
  },
  {
   "cell_type": "code",
   "execution_count": 64,
   "id": "26189d2a-8a40-471e-84da-f713323d9ae2",
   "metadata": {},
   "outputs": [],
   "source": [
    "overlay(skin, ak47)"
   ]
  },
  {
   "cell_type": "code",
   "execution_count": 184,
   "id": "2fe7a396-d85c-4df9-bd5d-5093bd61bd45",
   "metadata": {},
   "outputs": [],
   "source": [
    "# (x, y) starting points\n",
    "skins_coords_dict = {\n",
    "    'ak47': [22, 15]\n",
    "}"
   ]
  },
  {
   "cell_type": "code",
   "execution_count": 154,
   "id": "f79d3d75-0ce7-4403-8dd7-815aae4c3d58",
   "metadata": {},
   "outputs": [
    {
     "data": {
      "text/plain": [
       "(17, 52, 4)"
      ]
     },
     "execution_count": 154,
     "metadata": {},
     "output_type": "execute_result"
    }
   ],
   "source": [
    "ak47.shape"
   ]
  },
  {
   "cell_type": "code",
   "execution_count": 156,
   "id": "3096a4b0-798d-4cc7-9c07-f56728dbc4a9",
   "metadata": {},
   "outputs": [
    {
     "name": "stderr",
     "output_type": "stream",
     "text": [
      "Clipping input data to the valid range for imshow with RGB data ([0..1] for floats or [0..255] for integers).\n"
     ]
    },
    {
     "data": {
      "text/plain": [
       "<matplotlib.image.AxesImage at 0x14b54ae50>"
      ]
     },
     "execution_count": 156,
     "metadata": {},
     "output_type": "execute_result"
    },
    {
     "data": {
      "image/png": "[encoded data removed]",
      "text/plain": [
       "<Figure size 432x288 with 1 Axes>"
      ]
     },
     "metadata": {
      "needs_background": "light"
     },
     "output_type": "display_data"
    }
   ],
   "source": [
    "plt.imshow(arr)"
   ]
  },
  {
   "cell_type": "code",
   "execution_count": null,
   "id": "7e4258b4-886d-4661-98f2-c8ff0fd929a7",
   "metadata": {},
   "outputs": [],
   "source": [
    "np.array(k"
   ]
  },
  {
   "cell_type": "code",
   "execution_count": 203,
   "id": "09e6cd80-4d3a-4ae2-ac7b-e1b954cd75c5",
   "metadata": {},
   "outputs": [
    {
     "data": {
      "text/plain": [
       "<matplotlib.image.AxesImage at 0x14a649ee0>"
      ]
     },
     "execution_count": 203,
     "metadata": {},
     "output_type": "execute_result"
    },
    {
     "data": {
      "image/png": "[encoded data removed]",
      "text/plain": [
       "<Figure size 432x288 with 1 Axes>"
      ]
     },
     "metadata": {
      "needs_background": "light"
     },
     "output_type": "display_data"
    }
   ],
   "source": [
    "plt.imshow(_skin)"
   ]
  },
  {
   "cell_type": "code",
   "execution_count": 204,
   "id": "c38331c2-1912-47c7-92c4-b7668d023506",
   "metadata": {},
   "outputs": [
    {
     "data": {
      "text/plain": [
       "<matplotlib.image.AxesImage at 0x14a94dee0>"
      ]
     },
     "execution_count": 204,
     "metadata": {},
     "output_type": "execute_result"
    },
    {
     "data": {
      "image/png": "[encoded data removed]",
      "text/plain": [
       "<Figure size 432x288 with 1 Axes>"
      ]
     },
     "metadata": {
      "needs_background": "light"
     },
     "output_type": "display_data"
    }
   ],
   "source": [
    "plt.imshow(ak47)"
   ]
  },
  {
   "cell_type": "code",
   "execution_count": 181,
   "id": "38dfc6da-f0b4-4c31-97ac-c47f1e78ae0d",
   "metadata": {},
   "outputs": [
    {
     "data": {
      "text/plain": [
       "array([ 66,  66,  66, 255], dtype=uint8)"
      ]
     },
     "execution_count": 181,
     "metadata": {},
     "output_type": "execute_result"
    }
   ],
   "source": [
    "ak47[14, 23]"
   ]
  },
  {
   "cell_type": "code",
   "execution_count": 205,
   "id": "53def516-61ac-4f3b-a371-f4f4f967d72e",
   "metadata": {},
   "outputs": [
    {
     "data": {
      "text/plain": [
       "<matplotlib.image.AxesImage at 0x14a9a7cd0>"
      ]
     },
     "execution_count": 205,
     "metadata": {},
     "output_type": "execute_result"
    },
    {
     "data": {
      "image/png": "[encoded data removed]",
      "text/plain": [
       "<Figure size 432x288 with 1 Axes>"
      ]
     },
     "metadata": {
      "needs_background": "light"
     },
     "output_type": "display_data"
    }
   ],
   "source": [
    "_ak = ak47.copy()\n",
    "_ak[15, 22] = [255, 0, 0, 255]\n",
    "plt.imshow(_ak)"
   ]
  },
  {
   "cell_type": "code",
   "execution_count": 206,
   "id": "d37391ee-bc53-4c8a-8b69-b5cb911b01a6",
   "metadata": {},
   "outputs": [
    {
     "data": {
      "text/plain": [
       "<matplotlib.image.AxesImage at 0x14aa915e0>"
      ]
     },
     "execution_count": 206,
     "metadata": {},
     "output_type": "execute_result"
    },
    {
     "data": {
      "image/png": "[encoded data removed]",
      "text/plain": [
       "<Figure size 432x288 with 1 Axes>"
      ]
     },
     "metadata": {
      "needs_background": "light"
     },
     "output_type": "display_data"
    }
   ],
   "source": [
    "__skin = _skin.copy()\n",
    "__skin[15, 22] = [255, 0, 0, 255]\n",
    "plt.imshow(__skin)"
   ]
  },
  {
   "cell_type": "markdown",
   "id": "78bd9c63-688c-4645-9ca7-351314ce70e4",
   "metadata": {},
   "source": [
    "to left add till its equal to weapon idx"
   ]
  },
  {
   "cell_type": "markdown",
   "id": "b90ba4ae-cc84-477c-8815-2e5cfa89f3b9",
   "metadata": {},
   "source": [
    "then add to right till fit the shape"
   ]
  },
  {
   "cell_type": "markdown",
   "id": "395589e7-923a-4fd1-81e3-bc23a8beca17",
   "metadata": {},
   "source": [
    "to bottom add until the length to -1 weapon equals skin"
   ]
  },
  {
   "cell_type": "markdown",
   "id": "c32a7b95-369f-4195-8848-380817394213",
   "metadata": {},
   "source": [
    "after that, to top add the remainder unless the skin equals,\n",
    "if skin greater add to the weapon"
   ]
  },
  {
   "cell_type": "code",
   "execution_count": 67,
   "id": "24a8fb05-91b3-40d2-a8ea-5152fbc0adcc",
   "metadata": {},
   "outputs": [
    {
     "data": {
      "text/plain": [
       "<matplotlib.image.AxesImage at 0x14af3d0a0>"
      ]
     },
     "execution_count": 67,
     "metadata": {},
     "output_type": "execute_result"
    },
    {
     "data": {
      "image/png": "[encoded data removed]",
      "text/plain": [
       "<Figure size 432x288 with 1 Axes>"
      ]
     },
     "metadata": {
      "needs_background": "light"
     },
     "output_type": "display_data"
    }
   ],
   "source": [
    "plt.imshow(skin)"
   ]
  },
  {
   "cell_type": "code",
   "execution_count": 51,
   "id": "935f96d9-6f5a-48dd-8b2d-96f263c4963a",
   "metadata": {},
   "outputs": [
    {
     "data": {
      "text/plain": [
       "<matplotlib.image.AxesImage at 0x14a3d0940>"
      ]
     },
     "execution_count": 51,
     "metadata": {},
     "output_type": "execute_result"
    },
    {
     "data": {
      "image/png": "[encoded data removed]",
      "text/plain": [
       "<Figure size 432x288 with 1 Axes>"
      ]
     },
     "metadata": {
      "needs_background": "light"
     },
     "output_type": "display_data"
    }
   ],
   "source": [
    "plt.imshow(ak47)"
   ]
  },
  {
   "cell_type": "markdown",
   "id": "cded1ed8-1c88-4d29-91f5-fb38cd4a64b5",
   "metadata": {},
   "source": [
    "once the png is in the same size could just loop through the rows and cols and replace the px of ak where the px of skin is non-transparent"
   ]
  }
 ],
 "metadata": {
  "kernelspec": {
   "display_name": "Python 3 (ipykernel)",
   "language": "python",
   "name": "python3"
  },
  "language_info": {
   "codemirror_mode": {
    "name": "ipython",
    "version": 3
   },
   "file_extension": ".py",
   "mimetype": "text/x-python",
   "name": "python",
   "nbconvert_exporter": "python",
   "pygments_lexer": "ipython3",
   "version": "3.9.6"
  }
 },
 "nbformat": 4,
 "nbformat_minor": 5
}
