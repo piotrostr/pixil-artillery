{
 "cells": [
  {
   "cell_type": "markdown",
   "id": "244a643c-90b0-4308-abdc-2f96b9c9e118",
   "metadata": {},
   "source": [
    "all of the images need to have a constant size"
   ]
  },
  {
   "cell_type": "markdown",
   "id": "ccf5245f-a793-49ee-b542-5a06bb9aeb4d",
   "metadata": {},
   "source": [
    "pendants and attachments - I need a specific place to place them per each of the guns\n",
    "\n",
    "skins are going to be appliable over the actual gun"
   ]
  },
  {
   "cell_type": "markdown",
   "id": "84dcf05a-1fa4-4164-b7cf-02f1e7613f97",
   "metadata": {},
   "source": [
    "pendants:\n",
    "    pinata\n",
    "    dice\n",
    "    4_leaf\n",
    "    gold_medal\n",
    "    disco\n",
    "    \n",
    "attachments:\n",
    "    thermal_scope\n",
    "    acog\n",
    "    flamethrower\n",
    "    grenade_launcher\n",
    "    green_laser\n",
    "    red_laser\n",
    "    holo_scope\n",
    "    suppressor\n",
    "    red_dot\n",
    "    \n",
    "skins: \n",
    "    1\n",
    "    2\n",
    "    3\n",
    "    4\n",
    "    5\n",
    "    6\n",
    "    7\n",
    "    8\n",
    "    9 "
   ]
  },
  {
   "cell_type": "code",
   "execution_count": null,
   "id": "8d65d732-c686-4d12-9487-42f12065cd4c",
   "metadata": {},
   "outputs": [],
   "source": [
    "total: 5 pendants * 9 attachments * 9 skins = 405 unique combinations"
   ]
  },
  {
   "cell_type": "markdown",
   "id": "ee3cd398-8ce6-4939-955c-fdae4027bced",
   "metadata": {},
   "source": [
    "all the gun have to be extracted from the png and then the attachements, skins etc added and the whole thing has to be put in the center of the png"
   ]
  },
  {
   "cell_type": "markdown",
   "id": "70cd56b3-0a7a-4c1d-8eb0-444c347a8849",
   "metadata": {},
   "source": [
    "for some attachements there are going to be additional things to put in the up-left corner"
   ]
  },
  {
   "cell_type": "markdown",
   "id": "9c5bf176-c334-43b8-a1aa-c194cdb4e1b4",
   "metadata": {},
   "source": [
    "and the name of the gun is in the bottom-left corner"
   ]
  },
  {
   "cell_type": "code",
   "execution_count": 10,
   "id": "c96158dd-737c-4067-89b8-ff12b7e2333a",
   "metadata": {},
   "outputs": [],
   "source": [
    "import cv2\n",
    "import numpy as np\n",
    "import matplotlib.pyplot as plt"
   ]
  },
  {
   "cell_type": "code",
   "execution_count": 19,
   "id": "cb83ceac-f434-47aa-917f-7acc82eb614b",
   "metadata": {},
   "outputs": [],
   "source": [
    "pinata_spaz = cv2.imread('./data/Spaz12/PInata KC.png', cv2.IMREAD_UNCHANGED)"
   ]
  },
  {
   "cell_type": "code",
   "execution_count": 27,
   "id": "709c4353-641d-4658-bc44-acbf30fdda2e",
   "metadata": {},
   "outputs": [],
   "source": [
    "pinata_deagle = cv2.imread('./data/Deagle/PInata KC.png', cv2.IMREAD_UNCHANGED)"
   ]
  },
  {
   "cell_type": "code",
   "execution_count": 30,
   "id": "6b43078d-1510-4e8a-bfd7-049dea8b427a",
   "metadata": {},
   "outputs": [
    {
     "data": {
      "text/plain": [
       "<matplotlib.image.AxesImage at 0x127370c70>"
      ]
     },
     "execution_count": 30,
     "metadata": {},
     "output_type": "execute_result"
    },
    {
     "data": {
      "image/png": "[encoded data removed]",
      "text/plain": [
       "<Figure size 432x288 with 1 Axes>"
      ]
     },
     "metadata": {
      "needs_background": "light"
     },
     "output_type": "display_data"
    }
   ],
   "source": [
    "plt.imshow(pinata_deagle)"
   ]
  },
  {
   "cell_type": "code",
   "execution_count": 31,
   "id": "8f7b7740-8dec-450a-ae05-9b4b073da163",
   "metadata": {},
   "outputs": [],
   "source": [
    "np.testing.assert_equal(pinata_spaz, pinata_deagle)"
   ]
  }
 ],
 "metadata": {
  "kernelspec": {
   "display_name": "Python 3 (ipykernel)",
   "language": "python",
   "name": "python3"
  },
  "language_info": {
   "codemirror_mode": {
    "name": "ipython",
    "version": 3
   },
   "file_extension": ".py",
   "mimetype": "text/x-python",
   "name": "python",
   "nbconvert_exporter": "python",
   "pygments_lexer": "ipython3",
   "version": "3.9.6"
  }
 },
 "nbformat": 4,
 "nbformat_minor": 5
}
